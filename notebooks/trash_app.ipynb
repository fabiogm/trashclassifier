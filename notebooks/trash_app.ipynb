{
 "cells": [
  {
   "cell_type": "code",
   "execution_count": 1,
   "metadata": {},
   "outputs": [],
   "source": [
    "import os\n",
    "import sys\n",
    "module_path = os.path.abspath(os.path.join('..'))\n",
    "if module_path not in sys.path:\n",
    "    sys.path.append(module_path)"
   ]
  },
  {
   "cell_type": "code",
   "execution_count": 2,
   "metadata": {},
   "outputs": [
    {
     "name": "stderr",
     "output_type": "stream",
     "text": [
      "Using TensorFlow backend.\n",
      "/usr/lib/python3.5/importlib/_bootstrap.py:222: RuntimeWarning: compiletime version 3.4 of module 'tensorflow.python.framework.fast_tensor_util' does not match runtime version 3.5\n",
      "  return f(*args, **kwds)\n",
      "/usr/lib/python3.5/importlib/_bootstrap.py:222: RuntimeWarning: builtins.type size changed, may indicate binary incompatibility. Expected 432, got 412\n",
      "  return f(*args, **kwds)\n"
     ]
    }
   ],
   "source": [
    "import atexit\n",
    "from picamera import PiCamera\n",
    "import RPi.GPIO as GPIO \n",
    "from time import sleep\n",
    "from model.image_model import TrashModel\n",
    "import os\n",
    "import time"
   ]
  },
  {
   "cell_type": "code",
   "execution_count": 3,
   "metadata": {},
   "outputs": [],
   "source": [
    "class TrashApp:\n",
    "    def __init__(self, dataset_path, model_weights_file, model=TrashModel(), pinout={\n",
    "    'BTN_INPUT_PIN': 18,\n",
    "    'LED_CTRL_OUTPUT_PIN': 25,\n",
    "    'LED_RECYCLABLE_OUTPUT_PIN': 15,\n",
    "    'LED_NON_RECYCLABLE_OUTPUT_PIN': 7\n",
    "}):\n",
    "        self.dataset_path = dataset_path\n",
    "        self.model_weights_file = model_weights_file\n",
    "        self.model = model\n",
    "        self.model.load_weights(model_weights_file)\n",
    "        self.pinout = pinout\n",
    "        \n",
    "        self._setup()\n",
    "        \n",
    "    def _cleanup_gpio(self):\n",
    "        print('Cleaning up GPIO and exiting...')\n",
    "        GPIO.cleanup()\n",
    "\n",
    "    def _init_pins(self):\n",
    "        GPIO.setmode(GPIO.BCM)\n",
    "        GPIO.setup(self.pinout['BTN_INPUT_PIN'], GPIO.IN, pull_up_down=GPIO.PUD_UP)\n",
    "        GPIO.setup(self.pinout['LED_CTRL_OUTPUT_PIN'], GPIO.OUT)\n",
    "        GPIO.setup(self.pinout['LED_RECYCLABLE_OUTPUT_PIN'], GPIO.OUT)\n",
    "        GPIO.setup(self.pinout['LED_NON_RECYCLABLE_OUTPUT_PIN'], GPIO.OUT)\n",
    "        \n",
    "    def _setup(self):\n",
    "        atexit.register(self._cleanup_gpio)\n",
    "        self._init_pins()\n",
    "\n",
    "        # Give feedback to user of camera initialization and warm up. \n",
    "        GPIO.output(self.pinout['LED_CTRL_OUTPUT_PIN'], GPIO.HIGH)\n",
    "\n",
    "        self.camera = PiCamera()\n",
    "        sleep(2)\n",
    "\n",
    "        print('Camera ready!')\n",
    "        GPIO.output(self.pinout['LED_CTRL_OUTPUT_PIN'], GPIO.LOW)\n",
    "        GPIO.output(self.pinout['LED_RECYCLABLE_OUTPUT_PIN'], GPIO.LOW)\n",
    "        GPIO.output(self.pinout['LED_NON_RECYCLABLE_OUTPUT_PIN'], GPIO.LOW)\n",
    "        \n",
    "    def run(self):\n",
    "\n",
    "        if GPIO.input(self.pinout['BTN_INPUT_PIN']) == False:\n",
    "            GPIO.output(self.pinout['LED_CTRL_OUTPUT_PIN'], GPIO.HIGH)\n",
    "            filename = 'photo_' + str(int(time.time())) + '.jpg'\n",
    "            self.camera.capture(filename)\n",
    "            class_output = self.model.classifier(filename)\n",
    "            print(class_output)\n",
    "            GPIO.output(self.pinout['LED_CTRL_OUTPUT_PIN'], GPIO.LOW)\n",
    "            if class_output == 'recyclable':\n",
    "                GPIO.output(self.pinout['LED_RECYCLABLE_OUTPUT_PIN'], GPIO.HIGH)\n",
    "                sleep(1)\n",
    "                GPIO.output(self.pinout['LED_RECYCLABLE_OUTPUT_PIN'], GPIO.LOW)\n",
    "                os.rename(filename, self.dataset_path + '/recyclable/' + filename)\n",
    "            if class_output == 'nonrecyclable':\n",
    "                GPIO.output(self.pinout['LED_NON_RECYCLABLE_OUTPUT_PIN'], GPIO.HIGH)\n",
    "                sleep(1)\n",
    "                GPIO.output(self.pinout['LED_NON_RECYCLABLE_OUTPUT_PIN'], GPIO.LOW)\n",
    "                os.rename(filename, self.dataset_path + '/nonrecyclable/' + filename)\n",
    "\n",
    "            sleep(.3)\n"
   ]
  },
  {
   "cell_type": "code",
   "execution_count": 4,
   "metadata": {},
   "outputs": [
    {
     "name": "stdout",
     "output_type": "stream",
     "text": [
      "<keras.engine.sequential.Sequential object at 0x67f98790>\n",
      "Camera ready!\n"
     ]
    }
   ],
   "source": [
    "trash_app = TrashApp('../data-collection', '../model/first_try.h5')"
   ]
  },
  {
   "cell_type": "code",
   "execution_count": 5,
   "metadata": {},
   "outputs": [
    {
     "name": "stdout",
     "output_type": "stream",
     "text": [
      "recyclable\n"
     ]
    },
    {
     "ename": "KeyboardInterrupt",
     "evalue": "",
     "output_type": "error",
     "traceback": [
      "\u001b[0;31m---------------------------------------------------------------------------\u001b[0m",
      "\u001b[0;31mKeyboardInterrupt\u001b[0m                         Traceback (most recent call last)",
      "\u001b[0;32m<ipython-input-5-8ef08289f96b>\u001b[0m in \u001b[0;36m<module>\u001b[0;34m()\u001b[0m\n\u001b[1;32m      1\u001b[0m \u001b[0;32mwhile\u001b[0m\u001b[0;34m(\u001b[0m\u001b[0;32mTrue\u001b[0m\u001b[0;34m)\u001b[0m\u001b[0;34m:\u001b[0m\u001b[0;34m\u001b[0m\u001b[0m\n\u001b[1;32m      2\u001b[0m     \u001b[0mtrash_app\u001b[0m\u001b[0;34m.\u001b[0m\u001b[0mrun\u001b[0m\u001b[0;34m(\u001b[0m\u001b[0;34m)\u001b[0m\u001b[0;34m\u001b[0m\u001b[0m\n\u001b[0;32m----> 3\u001b[0;31m     \u001b[0msleep\u001b[0m\u001b[0;34m(\u001b[0m\u001b[0;36m.1\u001b[0m\u001b[0;34m)\u001b[0m\u001b[0;34m\u001b[0m\u001b[0m\n\u001b[0m",
      "\u001b[0;31mKeyboardInterrupt\u001b[0m: "
     ]
    }
   ],
   "source": [
    "while(True):\n",
    "    trash_app.run()\n",
    "    sleep(.1)"
   ]
  },
  {
   "cell_type": "code",
   "execution_count": null,
   "metadata": {},
   "outputs": [],
   "source": []
  }
 ],
 "metadata": {
  "kernelspec": {
   "display_name": "Python 3",
   "language": "python",
   "name": "python3"
  },
  "language_info": {
   "codemirror_mode": {
    "name": "ipython",
    "version": 3
   },
   "file_extension": ".py",
   "mimetype": "text/x-python",
   "name": "python",
   "nbconvert_exporter": "python",
   "pygments_lexer": "ipython3",
   "version": "3.5.3"
  }
 },
 "nbformat": 4,
 "nbformat_minor": 2
}
